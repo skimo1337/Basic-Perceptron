{
 "cells": [
  {
   "cell_type": "code",
   "execution_count": 1,
   "id": "surface-sending",
   "metadata": {},
   "outputs": [],
   "source": [
    "import pandas as pd\n",
    "from matplotlib import pyplot as plt\n",
    "import numpy as np\n",
    "import random"
   ]
  },
  {
   "cell_type": "code",
   "execution_count": 2,
   "id": "digital-burst",
   "metadata": {},
   "outputs": [],
   "source": [
    "######### INITIALIZING THE DATE #########\n",
    "m = random.randrange(1,30) / 10\n",
    "b = random.randrange(1,10) / 10\n",
    "max = 20\n",
    "z = []\n",
    "g = []\n",
    "x = [np.random.uniform(0,max) for _ in range(200)]\n",
    "y = [np.random.uniform(0,max) for _ in range(200)]\n",
    "for _ in range(len(x)):\n",
    "    z.append(0)\n",
    "    g.append(0)"
   ]
  },
  {
   "cell_type": "code",
   "execution_count": 3,
   "id": "funky-tokyo",
   "metadata": {},
   "outputs": [],
   "source": [
    "class Percep():\n",
    "    lr = 0.1\n",
    "    \n",
    "    def __init__(self, n):\n",
    "        self.weights =[np.random.uniform(-1,1) for _ in range(n)] #### initializing the weights\n",
    "    \n",
    "    def labeling(self, x, y):                                     #### labeling the data\n",
    "        for i in range(len(x)):\n",
    "            if((x[i] * m + b) >= y[i]):\n",
    "                z[i] = -1\n",
    "            else:\n",
    "                z[i] = 1\n",
    "                \n",
    "    ######### FEED FORWARD #########    \n",
    "    \n",
    "    def sign(self, d):                                            #### activation function: returns the sign of the weighted sum\n",
    "        if (d >= 0):\n",
    "            return 1\n",
    "        else:\n",
    "            return -1\n",
    "    \n",
    "    def guess(self, x, y):                                        #### calculating the guess\n",
    "        f = 0\n",
    "        sumx = 0\n",
    "        sumx += x * self.weights[0] + y * self.weights[1]\n",
    "        return self.sign(sumx)\n",
    "    \n",
    "    def tweak(self,x, y, label):                                  #### tweakign the weights\n",
    "        gues = self.guess(x, y)\n",
    "        error = label - gues\n",
    "        for i in range(len(self.weights)):\n",
    "            self.weights[i] += error * x * self.lr\n",
    "        return(self.guess(x, y))\n",
    "    \n",
    "    ######### BACK PROPAGATIONG : GRADIENT DESCENT #########\n",
    "    \n",
    "    def train(self, x,y):                                        #### gradient descent on every point\n",
    "        self.labeling(x, y)\n",
    "        for i in range(len(x)):\n",
    "            while(z[i] - g[i]):\n",
    "                g[i] = self.tweak(x[i], y[i], z[i])"
   ]
  },
  {
   "cell_type": "code",
   "execution_count": 4,
   "id": "chief-trick",
   "metadata": {},
   "outputs": [],
   "source": [
    "######### CALLING THE PERCEPTRON / TRAINING #########\n",
    "p = Percep(2)\n",
    "p.train(x, y)"
   ]
  },
  {
   "cell_type": "code",
   "execution_count": 5,
   "id": "rural-membership",
   "metadata": {},
   "outputs": [
    {
     "data": {
      "image/png": "[encoded data removed]",
      "text/plain": [
       "<Figure size 432x288 with 1 Axes>"
      ]
     },
     "metadata": {
      "needs_background": "light"
     },
     "output_type": "display_data"
    }
   ],
   "source": [
    "######### PLOTING THE DATA #########\n",
    "for i in range(len(x)):\n",
    "    if (g[i] == -1):\n",
    "        plt.scatter(x[i], y[i], color = 'red')\n",
    "    else:\n",
    "        plt.scatter(x[i], y[i], color = 'blue')\n",
    "xl = np.linspace(0, (max - b)/m, 2)\n",
    "plt.plot(xl, xl*m + b, color = 'black')\n",
    "plt.show()"
   ]
  }
 ],
 "metadata": {
  "kernelspec": {
   "display_name": "Python 3",
   "language": "python",
   "name": "python3"
  },
  "language_info": {
   "codemirror_mode": {
    "name": "ipython",
    "version": 3
   },
   "file_extension": ".py",
   "mimetype": "text/x-python",
   "name": "python",
   "nbconvert_exporter": "python",
   "pygments_lexer": "ipython3",
   "version": "3.8.5"
  }
 },
 "nbformat": 4,
 "nbformat_minor": 5
}
